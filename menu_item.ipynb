{
  "nbformat": 4,
  "nbformat_minor": 0,
  "metadata": {
    "colab": {
      "provenance": [],
      "authorship_tag": "ABX9TyOL0r8idS/NLMzhSxMNtzck",
      "include_colab_link": true
    },
    "kernelspec": {
      "name": "python3",
      "display_name": "Python 3"
    },
    "language_info": {
      "name": "python"
    }
  },
  "cells": [
    {
      "cell_type": "markdown",
      "metadata": {
        "id": "view-in-github",
        "colab_type": "text"
      },
      "source": [
        "<a href=\"https://colab.research.google.com/github/ta026/menu/blob/main/menu_item.ipynb\" target=\"_parent\"><img src=\"https://colab.research.google.com/assets/colab-badge.svg\" alt=\"Open In Colab\"/></a>"
      ]
    },
    {
      "cell_type": "code",
      "source": [
        "class Menuitem:\n",
        "     def __init__(self,name,price):\n",
        "      self.name = name\n",
        "      self.price = price\n",
        "\n",
        "     def info(self):\n",
        "      return self.name + '$' + str(self.price)\n",
        "\n",
        "     def get_total_price(self,count):\n",
        "      total_price = self.price * count\n",
        "      return round(total_price)\n",
        "\n",
        "menu_item = Menuitem('揚げあんぱん',120)\n",
        "menu_item1 = Menuitem('食パン',200)\n",
        "menu_item2 = Menuitem('メロンパン',150)\n",
        "\n",
        "menuitems = [menu_item,menu_item1,menu_item2]\n",
        "\n",
        "index = 0\n",
        "\n",
        "for menu_item in menuitems:\n",
        "  print(str(index) + '.' + menu_item.info())\n",
        "  index +=1\n",
        "\n",
        "total_prices = []\n",
        "\n",
        "while True:\n",
        "  get_menu = input('メニューを選択して下さい')\n",
        "  if get_menu == '99':\n",
        "    break\n",
        "  get_count = int(input('個数を入力して下さい'))\n",
        "\n",
        "  selected_menu = menuitems[int(get_menu)]\n",
        "\n",
        "  result = selected_menu.get_total_price(get_count)\n",
        "  total_prices.append(result)\n",
        "\n",
        "  print(str(result))\n",
        "\n",
        "print(str(sum(total_prices)))"
      ],
      "metadata": {
        "colab": {
          "base_uri": "https://localhost:8080/"
        },
        "id": "EY__F6UZnLj0",
        "outputId": "5ebb945b-ab9b-4671-e915-7aeabbb4c4b4"
      },
      "execution_count": 83,
      "outputs": [
        {
          "output_type": "stream",
          "name": "stdout",
          "text": [
            "0.揚げあんぱん$120\n",
            "1.食パン$200\n",
            "2.メロンパン$150\n",
            "メニューを選択して下さい0\n",
            "個数を入力して下さい2\n",
            "240\n",
            "メニューを選択して下さい1\n",
            "個数を入力して下さい2\n",
            "400\n",
            "メニューを選択して下さい2\n",
            "個数を入力して下さい5\n",
            "750\n",
            "メニューを選択して下さい99\n",
            "1390\n"
          ]
        }
      ]
    },
    {
      "cell_type": "markdown",
      "source": [
        "# 新しいセクション"
      ],
      "metadata": {
        "id": "BXisNWxp-WMs"
      }
    },
    {
      "cell_type": "code",
      "source": [],
      "metadata": {
        "id": "Wf3kVevj-fuq"
      },
      "execution_count": null,
      "outputs": []
    }
  ]
}